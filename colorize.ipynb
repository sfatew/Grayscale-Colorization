{
 "cells": [
  {
   "cell_type": "code",
   "execution_count": 1,
   "metadata": {
    "_cell_guid": "b1076dfc-b9ad-4769-8c92-a6c4dae69d19",
    "_uuid": "8f2839f25d086af736a60e9eeb907d3b93b6e0e5",
    "execution": {
     "iopub.execute_input": "2025-04-08T13:06:34.974942Z",
     "iopub.status.busy": "2025-04-08T13:06:34.974643Z",
     "iopub.status.idle": "2025-04-08T13:06:35.203540Z",
     "shell.execute_reply": "2025-04-08T13:06:35.202516Z",
     "shell.execute_reply.started": "2025-04-08T13:06:34.974908Z"
    },
    "trusted": true
   },
   "outputs": [
    {
     "name": "stdout",
     "output_type": "stream",
     "text": [
      "Tue Apr  8 13:06:35 2025       \n",
      "+-----------------------------------------------------------------------------------------+\n",
      "| NVIDIA-SMI 560.35.03              Driver Version: 560.35.03      CUDA Version: 12.6     |\n",
      "|-----------------------------------------+------------------------+----------------------+\n",
      "| GPU  Name                 Persistence-M | Bus-Id          Disp.A | Volatile Uncorr. ECC |\n",
      "| Fan  Temp   Perf          Pwr:Usage/Cap |           Memory-Usage | GPU-Util  Compute M. |\n",
      "|                                         |                        |               MIG M. |\n",
      "|=========================================+========================+======================|\n",
      "|   0  Tesla T4                       Off |   00000000:00:04.0 Off |                    0 |\n",
      "| N/A   36C    P8             11W /   70W |       1MiB /  15360MiB |      0%      Default |\n",
      "|                                         |                        |                  N/A |\n",
      "+-----------------------------------------+------------------------+----------------------+\n",
      "|   1  Tesla T4                       Off |   00000000:00:05.0 Off |                    0 |\n",
      "| N/A   37C    P8             11W /   70W |       1MiB /  15360MiB |      0%      Default |\n",
      "|                                         |                        |                  N/A |\n",
      "+-----------------------------------------+------------------------+----------------------+\n",
      "                                                                                         \n",
      "+-----------------------------------------------------------------------------------------+\n",
      "| Processes:                                                                              |\n",
      "|  GPU   GI   CI        PID   Type   Process name                              GPU Memory |\n",
      "|        ID   ID                                                               Usage      |\n",
      "|=========================================================================================|\n",
      "|  No running processes found                                                             |\n",
      "+-----------------------------------------------------------------------------------------+\n"
     ]
    }
   ],
   "source": [
    "!nvidia-smi"
   ]
  },
  {
   "cell_type": "code",
   "execution_count": 2,
   "metadata": {
    "execution": {
     "iopub.execute_input": "2025-04-08T13:06:35.205117Z",
     "iopub.status.busy": "2025-04-08T13:06:35.204846Z",
     "iopub.status.idle": "2025-04-08T13:06:41.984541Z",
     "shell.execute_reply": "2025-04-08T13:06:41.983495Z",
     "shell.execute_reply.started": "2025-04-08T13:06:35.205095Z"
    },
    "trusted": true
   },
   "outputs": [
    {
     "name": "stdout",
     "output_type": "stream",
     "text": [
      "Requirement already satisfied: albumentations in /usr/local/lib/python3.10/dist-packages (1.4.20)\n",
      "Collecting albumentations\n",
      "  Downloading albumentations-2.0.5-py3-none-any.whl.metadata (41 kB)\n",
      "\u001b[2K     \u001b[90m━━━━━━━━━━━━━━━━━━━━━━━━━━━━━━━━━━━━━━━━\u001b[0m \u001b[32m41.7/41.7 kB\u001b[0m \u001b[31m1.4 MB/s\u001b[0m eta \u001b[36m0:00:00\u001b[0m\n",
      "\u001b[?25hRequirement already satisfied: numpy>=1.24.4 in /usr/local/lib/python3.10/dist-packages (from albumentations) (1.26.4)\n",
      "Requirement already satisfied: scipy>=1.10.0 in /usr/local/lib/python3.10/dist-packages (from albumentations) (1.13.1)\n",
      "Requirement already satisfied: PyYAML in /usr/local/lib/python3.10/dist-packages (from albumentations) (6.0.2)\n",
      "Requirement already satisfied: pydantic>=2.9.2 in /usr/local/lib/python3.10/dist-packages (from albumentations) (2.11.0a2)\n",
      "Collecting albucore==0.0.23 (from albumentations)\n",
      "  Downloading albucore-0.0.23-py3-none-any.whl.metadata (5.3 kB)\n",
      "Requirement already satisfied: opencv-python-headless>=4.9.0.80 in /usr/local/lib/python3.10/dist-packages (from albumentations) (4.10.0.84)\n",
      "Requirement already satisfied: stringzilla>=3.10.4 in /usr/local/lib/python3.10/dist-packages (from albucore==0.0.23->albumentations) (3.11.1)\n",
      "Collecting simsimd>=5.9.2 (from albucore==0.0.23->albumentations)\n",
      "  Downloading simsimd-6.2.1-cp310-cp310-manylinux_2_28_x86_64.whl.metadata (66 kB)\n",
      "\u001b[2K     \u001b[90m━━━━━━━━━━━━━━━━━━━━━━━━━━━━━━━━━━━━━━━━\u001b[0m \u001b[32m66.0/66.0 kB\u001b[0m \u001b[31m2.5 MB/s\u001b[0m eta \u001b[36m0:00:00\u001b[0m\n",
      "\u001b[?25hRequirement already satisfied: mkl_fft in /usr/local/lib/python3.10/dist-packages (from numpy>=1.24.4->albumentations) (1.3.8)\n",
      "Requirement already satisfied: mkl_random in /usr/local/lib/python3.10/dist-packages (from numpy>=1.24.4->albumentations) (1.2.4)\n",
      "Requirement already satisfied: mkl_umath in /usr/local/lib/python3.10/dist-packages (from numpy>=1.24.4->albumentations) (0.1.1)\n",
      "Requirement already satisfied: mkl in /usr/local/lib/python3.10/dist-packages (from numpy>=1.24.4->albumentations) (2025.0.1)\n",
      "Requirement already satisfied: tbb4py in /usr/local/lib/python3.10/dist-packages (from numpy>=1.24.4->albumentations) (2022.0.0)\n",
      "Requirement already satisfied: mkl-service in /usr/local/lib/python3.10/dist-packages (from numpy>=1.24.4->albumentations) (2.4.1)\n",
      "Requirement already satisfied: annotated-types>=0.6.0 in /usr/local/lib/python3.10/dist-packages (from pydantic>=2.9.2->albumentations) (0.7.0)\n",
      "Requirement already satisfied: pydantic-core==2.29.0 in /usr/local/lib/python3.10/dist-packages (from pydantic>=2.9.2->albumentations) (2.29.0)\n",
      "Requirement already satisfied: typing-extensions>=4.12.2 in /usr/local/lib/python3.10/dist-packages (from pydantic>=2.9.2->albumentations) (4.12.2)\n",
      "Requirement already satisfied: intel-openmp>=2024 in /usr/local/lib/python3.10/dist-packages (from mkl->numpy>=1.24.4->albumentations) (2024.2.0)\n",
      "Requirement already satisfied: tbb==2022.* in /usr/local/lib/python3.10/dist-packages (from mkl->numpy>=1.24.4->albumentations) (2022.0.0)\n",
      "Requirement already satisfied: tcmlib==1.* in /usr/local/lib/python3.10/dist-packages (from tbb==2022.*->mkl->numpy>=1.24.4->albumentations) (1.2.0)\n",
      "Requirement already satisfied: intel-cmplr-lib-rt in /usr/local/lib/python3.10/dist-packages (from mkl_umath->numpy>=1.24.4->albumentations) (2024.2.0)\n",
      "Requirement already satisfied: intel-cmplr-lib-ur==2024.2.0 in /usr/local/lib/python3.10/dist-packages (from intel-openmp>=2024->mkl->numpy>=1.24.4->albumentations) (2024.2.0)\n",
      "Downloading albumentations-2.0.5-py3-none-any.whl (290 kB)\n",
      "\u001b[2K   \u001b[90m━━━━━━━━━━━━━━━━━━━━━━━━━━━━━━━━━━━━━━━━\u001b[0m \u001b[32m290.6/290.6 kB\u001b[0m \u001b[31m10.8 MB/s\u001b[0m eta \u001b[36m0:00:00\u001b[0m\n",
      "\u001b[?25hDownloading albucore-0.0.23-py3-none-any.whl (14 kB)\n",
      "Downloading simsimd-6.2.1-cp310-cp310-manylinux_2_28_x86_64.whl (632 kB)\n",
      "\u001b[2K   \u001b[90m━━━━━━━━━━━━━━━━━━━━━━━━━━━━━━━━━━━━━━━━\u001b[0m \u001b[32m632.7/632.7 kB\u001b[0m \u001b[31m29.5 MB/s\u001b[0m eta \u001b[36m0:00:00\u001b[0m\n",
      "\u001b[?25hInstalling collected packages: simsimd, albucore, albumentations\n",
      "  Attempting uninstall: albucore\n",
      "    Found existing installation: albucore 0.0.19\n",
      "    Uninstalling albucore-0.0.19:\n",
      "      Successfully uninstalled albucore-0.0.19\n",
      "  Attempting uninstall: albumentations\n",
      "    Found existing installation: albumentations 1.4.20\n",
      "    Uninstalling albumentations-1.4.20:\n",
      "      Successfully uninstalled albumentations-1.4.20\n",
      "Successfully installed albucore-0.0.23 albumentations-2.0.5 simsimd-6.2.1\n",
      "Note: you may need to restart the kernel to use updated packages.\n"
     ]
    }
   ],
   "source": [
    "pip install -U albumentations"
   ]
  },
  {
   "cell_type": "markdown",
   "metadata": {},
   "source": [
    "# Import"
   ]
  },
  {
   "cell_type": "code",
   "execution_count": 3,
   "metadata": {
    "execution": {
     "iopub.execute_input": "2025-04-08T13:06:41.986603Z",
     "iopub.status.busy": "2025-04-08T13:06:41.986339Z",
     "iopub.status.idle": "2025-04-08T13:06:52.876160Z",
     "shell.execute_reply": "2025-04-08T13:06:52.875296Z",
     "shell.execute_reply.started": "2025-04-08T13:06:41.986580Z"
    },
    "trusted": true
   },
   "outputs": [],
   "source": [
    "import pandas as pd\n",
    "import numpy as np\n",
    "import matplotlib.pyplot as plt\n",
    "import os\n",
    "import cv2\n",
    "import math\n",
    "from tqdm.notebook import trange, tqdm\n",
    "import random\n",
    "\n",
    "import torch\n",
    "import torch.nn as nn\n",
    "from torch import optim\n",
    "from torch.utils.data import DataLoader, DistributedSampler\n",
    "import torch.nn.functional as F\n",
    "#from torch.distributions import Categorical\n",
    "\n",
    "import torchvision\n",
    "from torchvision.utils import make_grid\n",
    "from torchvision import datasets, transforms\n",
    "from torch.utils.data import Dataset, DataLoader, random_split\n",
    "\n",
    "import albumentations as A\n",
    "from albumentations.pytorch.transforms import ToTensorV2\n",
    "\n",
    "import torch.distributed as dist\n",
    "from torch.nn.parallel import DistributedDataParallel as DDP\n",
    "import torch.multiprocessing as mp\n",
    "\n",
    "from torch.cuda.amp import GradScaler, autocast\n",
    "\n",
    "from PIL import Image\n",
    "from skimage.color import rgb2lab, lab2rgb\n",
    "from sklearn.metrics import roc_auc_score\n",
    "\n",
    "from pathlib import Path\n",
    "\n",
    "import time\n",
    "\n",
    "import wandb\n",
    "\n",
    "torch.backends.cuda.matmul.allow_tf32 = True"
   ]
  },
  {
   "cell_type": "code",
   "execution_count": 4,
   "metadata": {
    "execution": {
     "iopub.execute_input": "2025-04-08T13:06:52.877677Z",
     "iopub.status.busy": "2025-04-08T13:06:52.877451Z",
     "iopub.status.idle": "2025-04-08T13:06:52.882104Z",
     "shell.execute_reply": "2025-04-08T13:06:52.880897Z",
     "shell.execute_reply.started": "2025-04-08T13:06:52.877657Z"
    },
    "trusted": true
   },
   "outputs": [],
   "source": [
    "data_set_root='/kaggle/input/coco-2017-dataset/coco2017'\n",
    "train_set ='train2017'\n",
    "validation_set ='val2017'\n",
    "test_set = 'test2017'\n",
    "\n",
    "train_path = os.path.join(data_set_root, train_set)\n",
    "\n",
    "val_path = os.path.join(data_set_root, validation_set)\n",
    "\n",
    "test_path = os.path.join(data_set_root, test_set)"
   ]
  },
  {
   "cell_type": "code",
   "execution_count": 5,
   "metadata": {
    "execution": {
     "iopub.execute_input": "2025-04-08T13:06:52.883316Z",
     "iopub.status.busy": "2025-04-08T13:06:52.883007Z",
     "iopub.status.idle": "2025-04-08T13:13:29.475192Z",
     "shell.execute_reply": "2025-04-08T13:13:29.474283Z",
     "shell.execute_reply.started": "2025-04-08T13:06:52.883286Z"
    },
    "trusted": true
   },
   "outputs": [
    {
     "name": "stdout",
     "output_type": "stream",
     "text": [
      "118287 5000 40670\n"
     ]
    }
   ],
   "source": [
    "train_image_path = list(Path(train_path).rglob(\"*.*\"))\n",
    "val_image_path = list(Path(val_path).rglob(\"*.*\"))\n",
    "test_image_path = list(Path(test_path).rglob(\"*.*\"))\n",
    "\n",
    "print(len(train_image_path), len(val_image_path), len(test_image_path))"
   ]
  },
  {
   "cell_type": "code",
   "execution_count": 6,
   "metadata": {
    "execution": {
     "iopub.execute_input": "2025-04-08T13:13:29.476513Z",
     "iopub.status.busy": "2025-04-08T13:13:29.476188Z",
     "iopub.status.idle": "2025-04-08T13:13:29.826787Z",
     "shell.execute_reply": "2025-04-08T13:13:29.825973Z",
     "shell.execute_reply.started": "2025-04-08T13:13:29.476481Z"
    },
    "trusted": true
   },
   "outputs": [
    {
     "data": {
      "text/plain": [
       "(224, 224, 3)"
      ]
     },
     "execution_count": 6,
     "metadata": {},
     "output_type": "execute_result"
    },
    {
     "data": {
      "image/png": "[encoded data removed]",
      "text/plain": [
       "<Figure size 640x480 with 1 Axes>"
      ]
     },
     "metadata": {},
     "output_type": "display_data"
    }
   ],
   "source": [
    "img = cv2.imread(train_image_path[1])\n",
    "img = cv2.cvtColor(img,cv2.COLOR_BGR2RGB)\n",
    "img = cv2.resize(img, (224, 224))\n",
    "plt.imshow(img)\n",
    "img.shape"
   ]
  },
  {
   "cell_type": "markdown",
   "metadata": {},
   "source": [
    "# Set up parallel"
   ]
  },
  {
   "cell_type": "code",
   "execution_count": 7,
   "metadata": {
    "execution": {
     "iopub.execute_input": "2025-04-08T13:13:29.828061Z",
     "iopub.status.busy": "2025-04-08T13:13:29.827688Z",
     "iopub.status.idle": "2025-04-08T13:13:29.832852Z",
     "shell.execute_reply": "2025-04-08T13:13:29.832144Z",
     "shell.execute_reply.started": "2025-04-08T13:13:29.828026Z"
    },
    "trusted": true
   },
   "outputs": [],
   "source": [
    "def setup(rank, world_size):\n",
    "    \"\"\" Initialize process group for DDP \"\"\"\n",
    "    os.environ['MASTER_ADDR'] = 'localhost'\n",
    "    os.environ['MASTER_PORT'] = '12355'\n",
    "    dist.init_process_group(\"nccl\", rank=rank, world_size=world_size)\n",
    "    torch.cuda.set_device(rank) # Ensure each process uses the correct GPU\n",
    "    device = torch.device(f'cuda:{rank}')\n",
    "\n",
    "    return device\n",
    "\n",
    "def cleanup():\n",
    "    \"\"\" Destroy process group when training is complete \"\"\"\n",
    "    dist.destroy_process_group()"
   ]
  },
  {
   "cell_type": "markdown",
   "metadata": {},
   "source": [
    "# Parameters"
   ]
  },
  {
   "cell_type": "code",
   "execution_count": 8,
   "metadata": {
    "execution": {
     "iopub.execute_input": "2025-04-08T13:13:29.834222Z",
     "iopub.status.busy": "2025-04-08T13:13:29.833873Z",
     "iopub.status.idle": "2025-04-08T13:13:29.853502Z",
     "shell.execute_reply": "2025-04-08T13:13:29.852871Z",
     "shell.execute_reply.started": "2025-04-08T13:13:29.834190Z"
    },
    "trusted": true
   },
   "outputs": [],
   "source": [
    "image_size = 224\n",
    "\n",
    "batch_size = 64"
   ]
  },
  {
   "cell_type": "markdown",
   "metadata": {},
   "source": [
    "# Data Processing"
   ]
  },
  {
   "cell_type": "code",
   "execution_count": 9,
   "metadata": {
    "execution": {
     "iopub.execute_input": "2025-04-08T13:13:29.856583Z",
     "iopub.status.busy": "2025-04-08T13:13:29.856386Z",
     "iopub.status.idle": "2025-04-08T13:13:29.868015Z",
     "shell.execute_reply": "2025-04-08T13:13:29.867324Z",
     "shell.execute_reply.started": "2025-04-08T13:13:29.856567Z"
    },
    "trusted": true
   },
   "outputs": [],
   "source": [
    "class ColorizationDataset(Dataset):\n",
    "    def __init__(self, paths, Size=(224, 224), transform=None):\n",
    "        self.paths = paths\n",
    "        self.height, self.width = Size\n",
    "        self.transform = transform\n",
    "\n",
    "    def __len__(self):\n",
    "        return len(self.paths)\n",
    "\n",
    "    def __getitem__(self, idx):\n",
    "        img = Image.open(self.paths[idx]).convert(\"RGB\")\n",
    "        img = img.resize((self.height, self.width), Image.BICUBIC)\n",
    "        img = np.array(img)  # Convert PIL to NumPy (Albumentations requires NumPy)\n",
    "\n",
    "        # Apply Albumentations transform if provided\n",
    "        if self.transform:\n",
    "            transformed = self.transform(image=img)\n",
    "            img = transformed[\"image\"]\n",
    "\n",
    "        # If img is in (C, H, W) format, convert to (H, W, C)\n",
    "        if img.shape[0] == 3:\n",
    "            img = np.transpose(img, (1, 2, 0))  # Convert (C, H, W) → (H, W, C)\n",
    "\n",
    "        # Convert RGB → LAB\n",
    "        img_lab = rgb2lab(img).astype(\"float32\")  # (H, W, 3)\n",
    "\n",
    "        # Extract L and ab channels\n",
    "        L = img_lab[:, :, 0] \n",
    "        ab = img_lab[:, :, 1:]\n",
    "\n",
    "        # Convert to PyTorch tensors\n",
    "        L = torch.tensor(L, dtype=torch.float32).unsqueeze(0)  # (1, H, W)\n",
    "        ab = torch.tensor(ab, dtype=torch.float32).permute(2, 0, 1)  # (2, H, W)\n",
    "\n",
    "        return {'L': L, 'ab': ab}"
   ]
  },
  {
   "cell_type": "code",
   "execution_count": 10,
   "metadata": {
    "execution": {
     "iopub.execute_input": "2025-04-08T13:13:29.869784Z",
     "iopub.status.busy": "2025-04-08T13:13:29.869600Z",
     "iopub.status.idle": "2025-04-08T13:13:29.885738Z",
     "shell.execute_reply": "2025-04-08T13:13:29.885058Z",
     "shell.execute_reply.started": "2025-04-08T13:13:29.869768Z"
    },
    "trusted": true
   },
   "outputs": [],
   "source": [
    "transform = A.Compose([\n",
    "    A.HorizontalFlip(p=0.4),\n",
    "    A.VerticalFlip(p=0.4),\n",
    "    A.RandomRotate90(p=0.5),\n",
    "    A.RandomBrightnessContrast(p=0.2),\n",
    "    A.RandomGamma (gamma_limit=(70, 130), p=0.2),\n",
    "    ToTensorV2(),\n",
    "])"
   ]
  },
  {
   "cell_type": "code",
   "execution_count": 33,
   "metadata": {
    "execution": {
     "iopub.execute_input": "2025-04-08T13:18:06.553132Z",
     "iopub.status.busy": "2025-04-08T13:18:06.552785Z",
     "iopub.status.idle": "2025-04-08T13:18:06.557727Z",
     "shell.execute_reply": "2025-04-08T13:18:06.556642Z",
     "shell.execute_reply.started": "2025-04-08T13:18:06.553107Z"
    },
    "trusted": true
   },
   "outputs": [],
   "source": [
    "def make_dataloaders(rank, world_size, batch_size=16, n_workers=0, pin_memory=True, **kwargs): # A handy function to make our dataloaders\n",
    "    dataset = ColorizationDataset(**kwargs)\n",
    "    sampler = DistributedSampler(dataset, num_replicas=world_size, rank=rank, shuffle=True)\n",
    "    dataloader = DataLoader(dataset, batch_size=batch_size, sampler=sampler, num_workers=n_workers,\n",
    "                            pin_memory=pin_memory)\n",
    "    return dataloader"
   ]
  },
  {
   "cell_type": "code",
   "execution_count": 12,
   "metadata": {
    "execution": {
     "iopub.execute_input": "2025-04-08T13:13:29.892435Z",
     "iopub.status.busy": "2025-04-08T13:13:29.892199Z",
     "iopub.status.idle": "2025-04-08T13:13:29.907716Z",
     "shell.execute_reply": "2025-04-08T13:13:29.907055Z",
     "shell.execute_reply.started": "2025-04-08T13:13:29.892404Z"
    },
    "trusted": true
   },
   "outputs": [],
   "source": [
    "#train_loader = make_dataloaders(batch_size = batch_size, paths=train_image_path, transform = transform)\n",
    "\n",
    "#val_loader = make_dataloaders(batch_size = batch_size, paths=val_image_path)"
   ]
  },
  {
   "cell_type": "code",
   "execution_count": 13,
   "metadata": {
    "execution": {
     "iopub.execute_input": "2025-04-08T13:13:29.908669Z",
     "iopub.status.busy": "2025-04-08T13:13:29.908416Z",
     "iopub.status.idle": "2025-04-08T13:13:29.922015Z",
     "shell.execute_reply": "2025-04-08T13:13:29.921409Z",
     "shell.execute_reply.started": "2025-04-08T13:13:29.908650Z"
    },
    "trusted": true
   },
   "outputs": [],
   "source": [
    "#data = next(iter(train_loader))\n",
    "#Ls, abs_ = data['L'], data['ab']\n",
    "#print(Ls.shape, abs_.shape)\n",
    "#print(len(train_loader), len(val_loader))"
   ]
  },
  {
   "cell_type": "markdown",
   "metadata": {},
   "source": [
    "# Model"
   ]
  },
  {
   "cell_type": "code",
   "execution_count": 14,
   "metadata": {
    "execution": {
     "iopub.execute_input": "2025-04-08T13:13:29.923190Z",
     "iopub.status.busy": "2025-04-08T13:13:29.922871Z",
     "iopub.status.idle": "2025-04-08T13:13:29.937570Z",
     "shell.execute_reply": "2025-04-08T13:13:29.936917Z",
     "shell.execute_reply.started": "2025-04-08T13:13:29.923154Z"
    },
    "trusted": true
   },
   "outputs": [],
   "source": [
    "class BaseColor(nn.Module):\n",
    "\tdef __init__(self):\n",
    "\t\tsuper(BaseColor, self).__init__()\n",
    "\n",
    "\t\tself.l_cent = 50.\n",
    "\t\tself.l_norm = 100.\n",
    "\t\tself.ab_norm = 110.\n",
    "\n",
    "\tdef normalize_l(self, in_l):\n",
    "\t\treturn (in_l-self.l_cent)/self.l_norm   # Normalize L to [-0.5, 0.5]\n",
    "\n",
    "\tdef unnormalize_l(self, in_l):\n",
    "\t\treturn in_l*self.l_norm + self.l_cent\n",
    "\n",
    "\tdef normalize_ab(self, in_ab):\n",
    "\t\treturn in_ab/self.ab_norm    # Normalize ab to [-1, 1]\n",
    "\n",
    "\tdef unnormalize_ab(self, in_ab):\n",
    "\t\treturn in_ab*self.ab_norm"
   ]
  },
  {
   "cell_type": "code",
   "execution_count": 15,
   "metadata": {
    "execution": {
     "iopub.execute_input": "2025-04-08T13:13:29.938616Z",
     "iopub.status.busy": "2025-04-08T13:13:29.938354Z",
     "iopub.status.idle": "2025-04-08T13:13:29.959760Z",
     "shell.execute_reply": "2025-04-08T13:13:29.958921Z",
     "shell.execute_reply.started": "2025-04-08T13:13:29.938595Z"
    },
    "trusted": true
   },
   "outputs": [],
   "source": [
    "class ColorizationNet(BaseColor):\n",
    "    def __init__(self, norm_layer=nn.BatchNorm2d):\n",
    "        super(ColorizationNet, self).__init__()\n",
    "\n",
    "        model1=[nn.Conv2d(1, 64, kernel_size=3, stride=1, padding=1, bias=True),]\n",
    "        model1+=[nn.ReLU(True),]\n",
    "        model1+=[nn.Conv2d(64, 64, kernel_size=3, stride=2, padding=1, bias=True),]\n",
    "        model1+=[nn.ReLU(True),]\n",
    "        model1+=[norm_layer(64),]\n",
    "\n",
    "        model2=[nn.Conv2d(64, 128, kernel_size=3, stride=1, padding=1, bias=True),]\n",
    "        model2+=[nn.ReLU(True),]\n",
    "        model2+=[nn.Conv2d(128, 128, kernel_size=3, stride=2, padding=1, bias=True),]\n",
    "        model2+=[nn.ReLU(True),]\n",
    "        model2+=[norm_layer(128),]\n",
    "\n",
    "        model3=[nn.Conv2d(128, 256, kernel_size=3, stride=1, padding=1, bias=True),]\n",
    "        model3+=[nn.ReLU(True),]\n",
    "        model3+=[nn.Conv2d(256, 256, kernel_size=3, stride=1, padding=1, bias=True),]\n",
    "        model3+=[nn.ReLU(True),]\n",
    "        model3+=[nn.Conv2d(256, 256, kernel_size=3, stride=2, padding=1, bias=True),]\n",
    "        model3+=[nn.ReLU(True),]\n",
    "        model3+=[norm_layer(256),]\n",
    "\n",
    "        model4=[nn.Conv2d(256, 512, kernel_size=3, stride=1, padding=1, bias=True),]\n",
    "        model4+=[nn.ReLU(True),]\n",
    "        model4+=[nn.Conv2d(512, 512, kernel_size=3, stride=1, padding=1, bias=True),]\n",
    "        model4+=[nn.ReLU(True),]\n",
    "        model4+=[nn.Conv2d(512, 512, kernel_size=3, stride=1, padding=1, bias=True),]\n",
    "        model4+=[nn.ReLU(True),]\n",
    "        model4+=[norm_layer(512),]\n",
    "\n",
    "        model5=[nn.Conv2d(512, 512, kernel_size=3, dilation=2, stride=1, padding=2, bias=True),]\n",
    "        model5+=[nn.ReLU(True),]\n",
    "        model5+=[nn.Conv2d(512, 512, kernel_size=3, dilation=2, stride=1, padding=2, bias=True),]\n",
    "        model5+=[nn.ReLU(True),]\n",
    "        model5+=[nn.Conv2d(512, 512, kernel_size=3, dilation=2, stride=1, padding=2, bias=True),]\n",
    "        model5+=[nn.ReLU(True),]\n",
    "        model5+=[norm_layer(512),]\n",
    "\n",
    "        model6=[nn.Conv2d(512, 512, kernel_size=3, dilation=2, stride=1, padding=2, bias=True),]\n",
    "        model6+=[nn.ReLU(True),]\n",
    "        model6+=[nn.Conv2d(512, 512, kernel_size=3, dilation=2, stride=1, padding=2, bias=True),]\n",
    "        model6+=[nn.ReLU(True),]\n",
    "        model6+=[nn.Conv2d(512, 512, kernel_size=3, dilation=2, stride=1, padding=2, bias=True),]\n",
    "        model6+=[nn.ReLU(True),]\n",
    "        model6+=[norm_layer(512),]\n",
    "\n",
    "        model7=[nn.Conv2d(512, 512, kernel_size=3, stride=1, padding=1, bias=True),]\n",
    "        model7+=[nn.ReLU(True),]\n",
    "        model7+=[nn.Conv2d(512, 512, kernel_size=3, stride=1, padding=1, bias=True),]\n",
    "        model7+=[nn.ReLU(True),]\n",
    "        model7+=[nn.Conv2d(512, 512, kernel_size=3, stride=1, padding=1, bias=True),]\n",
    "        model7+=[nn.ReLU(True),]\n",
    "        model7+=[norm_layer(512),]\n",
    "\n",
    "        model8=[nn.ConvTranspose2d(512, 256, kernel_size=4, stride=2, padding=1, bias=True),]\n",
    "        model8+=[nn.ReLU(True),]\n",
    "        model8+=[nn.Conv2d(256, 256, kernel_size=3, stride=1, padding=1, bias=True),]\n",
    "        model8+=[nn.ReLU(True),]\n",
    "        model8+=[nn.Conv2d(256, 256, kernel_size=3, stride=1, padding=1, bias=True),]\n",
    "        model8+=[nn.ReLU(True),]\n",
    "\n",
    "        model8+=[nn.Conv2d(256, 313, kernel_size=1, stride=1, padding=0, bias=True),]\n",
    "\n",
    "        self.model1 = nn.Sequential(*model1)\n",
    "        self.model2 = nn.Sequential(*model2)\n",
    "        self.model3 = nn.Sequential(*model3)\n",
    "        self.model4 = nn.Sequential(*model4)\n",
    "        self.model5 = nn.Sequential(*model5)\n",
    "        self.model6 = nn.Sequential(*model6)\n",
    "        self.model7 = nn.Sequential(*model7)\n",
    "        self.model8 = nn.Sequential(*model8)\n",
    "\n",
    "        self.softmax = nn.Softmax(dim=1)\n",
    "        self.model_out = nn.Conv2d(313, 2, kernel_size=1, padding=0, dilation=1, stride=1, bias=False)\n",
    "        self.upsample4 = nn.Upsample(scale_factor=4, mode='bilinear')\n",
    "\n",
    "    def forward(self, input_l):\n",
    "        conv1_2 = self.model1(self.normalize_l(input_l))\n",
    "        conv2_2 = self.model2(conv1_2)\n",
    "        conv3_3 = self.model3(conv2_2)\n",
    "        conv4_3 = self.model4(conv3_3)\n",
    "        conv5_3 = self.model5(conv4_3)\n",
    "        conv6_3 = self.model6(conv5_3)\n",
    "        conv7_3 = self.model7(conv6_3)\n",
    "        conv8_3 = self.model8(conv7_3)\n",
    "        out_reg = self.model_out(self.softmax(conv8_3))\n",
    "\n",
    "        return self.unnormalize_ab(self.upsample4(out_reg))"
   ]
  },
  {
   "cell_type": "code",
   "execution_count": 16,
   "metadata": {
    "execution": {
     "iopub.execute_input": "2025-04-08T13:13:29.960835Z",
     "iopub.status.busy": "2025-04-08T13:13:29.960530Z",
     "iopub.status.idle": "2025-04-08T13:13:29.979228Z",
     "shell.execute_reply": "2025-04-08T13:13:29.978585Z",
     "shell.execute_reply.started": "2025-04-08T13:13:29.960790Z"
    },
    "trusted": true
   },
   "outputs": [],
   "source": [
    "def init_weights(m):\n",
    "    if isinstance(m, nn.Conv2d):\n",
    "        nn.init.kaiming_normal_(m.weight, mode='fan_out', nonlinearity='relu')\n",
    "        if m.bias is not None:\n",
    "            nn.init.constant_(m.bias, 0)\n",
    "    elif isinstance(m, nn.BatchNorm2d):\n",
    "        nn.init.constant_(m.weight, 1)\n",
    "        nn.init.constant_(m.bias, 0)\n",
    "    elif isinstance(m, nn.Linear):\n",
    "        nn.init.xavier_normal_(m.weight)\n",
    "        if m.bias is not None:\n",
    "            nn.init.constant_(m.bias, 0)"
   ]
  },
  {
   "cell_type": "code",
   "execution_count": 17,
   "metadata": {
    "execution": {
     "iopub.execute_input": "2025-04-08T13:13:29.980269Z",
     "iopub.status.busy": "2025-04-08T13:13:29.979988Z",
     "iopub.status.idle": "2025-04-08T13:13:29.993644Z",
     "shell.execute_reply": "2025-04-08T13:13:29.993020Z",
     "shell.execute_reply.started": "2025-04-08T13:13:29.980243Z"
    },
    "trusted": true
   },
   "outputs": [],
   "source": [
    "def create_model(rank):\n",
    "    model = ColorizationNet()\n",
    "    model.apply(init_weights)\n",
    "    model.to(rank)  # Move model to GPU\n",
    "    model = DDP(model, device_ids=[rank])  # Wrap with DDP\n",
    "    return model"
   ]
  },
  {
   "cell_type": "code",
   "execution_count": 18,
   "metadata": {
    "execution": {
     "iopub.execute_input": "2025-04-08T13:13:29.994711Z",
     "iopub.status.busy": "2025-04-08T13:13:29.994436Z",
     "iopub.status.idle": "2025-04-08T13:13:30.015550Z",
     "shell.execute_reply": "2025-04-08T13:13:30.014874Z",
     "shell.execute_reply.started": "2025-04-08T13:13:29.994684Z"
    },
    "trusted": true
   },
   "outputs": [],
   "source": [
    "#model = create_model(rank)"
   ]
  },
  {
   "cell_type": "code",
   "execution_count": 19,
   "metadata": {
    "execution": {
     "iopub.execute_input": "2025-04-08T13:13:30.016540Z",
     "iopub.status.busy": "2025-04-08T13:13:30.016291Z",
     "iopub.status.idle": "2025-04-08T13:13:30.030329Z",
     "shell.execute_reply": "2025-04-08T13:13:30.029575Z",
     "shell.execute_reply.started": "2025-04-08T13:13:30.016513Z"
    },
    "trusted": true
   },
   "outputs": [],
   "source": [
    "#summary(model, (3, 256, 256))"
   ]
  },
  {
   "cell_type": "markdown",
   "metadata": {},
   "source": [
    "# Hyperparameters"
   ]
  },
  {
   "cell_type": "code",
   "execution_count": 20,
   "metadata": {
    "execution": {
     "iopub.execute_input": "2025-04-08T13:13:30.031346Z",
     "iopub.status.busy": "2025-04-08T13:13:30.031097Z",
     "iopub.status.idle": "2025-04-08T13:13:30.044584Z",
     "shell.execute_reply": "2025-04-08T13:13:30.043958Z",
     "shell.execute_reply.started": "2025-04-08T13:13:30.031316Z"
    },
    "trusted": true
   },
   "outputs": [],
   "source": [
    "learning_rate = 1e-3\n",
    "\n",
    "epochs = 160\n",
    "\n",
    "model_path = '/kaggle/working/model.pth'"
   ]
  },
  {
   "cell_type": "markdown",
   "metadata": {},
   "source": [
    "# Set up"
   ]
  },
  {
   "cell_type": "code",
   "execution_count": 21,
   "metadata": {
    "execution": {
     "iopub.execute_input": "2025-04-08T13:13:30.045609Z",
     "iopub.status.busy": "2025-04-08T13:13:30.045321Z",
     "iopub.status.idle": "2025-04-08T13:13:30.059461Z",
     "shell.execute_reply": "2025-04-08T13:13:30.058632Z",
     "shell.execute_reply.started": "2025-04-08T13:13:30.045583Z"
    },
    "trusted": true
   },
   "outputs": [],
   "source": [
    "#optimizer = optim.Adam(model.parameters(), lr=learning_rate)\n",
    "\n",
    "#scaler = torch.cuda.amp.GradScaler()\n",
    "\n",
    "#loss_fn = nn.CrossEntropyLoss(reduction=\"none\")\n"
   ]
  },
  {
   "cell_type": "code",
   "execution_count": 22,
   "metadata": {
    "execution": {
     "iopub.execute_input": "2025-04-08T13:13:30.060660Z",
     "iopub.status.busy": "2025-04-08T13:13:30.060389Z",
     "iopub.status.idle": "2025-04-08T13:13:30.073551Z",
     "shell.execute_reply": "2025-04-08T13:13:30.072852Z",
     "shell.execute_reply.started": "2025-04-08T13:13:30.060633Z"
    },
    "trusted": true
   },
   "outputs": [],
   "source": [
    "PROJECT = \"Colorizing\"\n",
    "RESUME = \"allow\"\n",
    "WANDB_KEY = \"d9d14819dddd8a35a353b5c0b087e0f60d717140\""
   ]
  },
  {
   "cell_type": "code",
   "execution_count": 23,
   "metadata": {
    "execution": {
     "iopub.execute_input": "2025-04-08T13:13:30.074434Z",
     "iopub.status.busy": "2025-04-08T13:13:30.074231Z",
     "iopub.status.idle": "2025-04-08T13:13:36.485085Z",
     "shell.execute_reply": "2025-04-08T13:13:36.484401Z",
     "shell.execute_reply.started": "2025-04-08T13:13:30.074416Z"
    },
    "trusted": true
   },
   "outputs": [
    {
     "name": "stderr",
     "output_type": "stream",
     "text": [
      "\u001b[34m\u001b[1mwandb\u001b[0m: Using wandb-core as the SDK backend.  Please refer to https://wandb.me/wandb-core for more information.\n",
      "\u001b[34m\u001b[1mwandb\u001b[0m: Currently logged in as: \u001b[33mtr-hoanganh1124\u001b[0m (\u001b[33mtr-hoanganh1124-hanoi-university-of-science-and-technology\u001b[0m). Use \u001b[1m`wandb login --relogin`\u001b[0m to force relogin\n",
      "\u001b[34m\u001b[1mwandb\u001b[0m: \u001b[33mWARNING\u001b[0m If you're specifying your api key in code, ensure this code is not shared publicly.\n",
      "\u001b[34m\u001b[1mwandb\u001b[0m: \u001b[33mWARNING\u001b[0m Consider setting the WANDB_API_KEY environment variable, or running `wandb login` from the command line.\n",
      "\u001b[34m\u001b[1mwandb\u001b[0m: Appending key for api.wandb.ai to your netrc file: /root/.netrc\n"
     ]
    },
    {
     "data": {
      "text/plain": [
       "True"
      ]
     },
     "execution_count": 23,
     "metadata": {},
     "output_type": "execute_result"
    }
   ],
   "source": [
    "wandb.login(\n",
    "    key = WANDB_KEY,\n",
    ")"
   ]
  },
  {
   "cell_type": "code",
   "execution_count": 24,
   "metadata": {
    "execution": {
     "iopub.execute_input": "2025-04-08T13:13:36.486325Z",
     "iopub.status.busy": "2025-04-08T13:13:36.485850Z",
     "iopub.status.idle": "2025-04-08T13:13:36.489534Z",
     "shell.execute_reply": "2025-04-08T13:13:36.488771Z",
     "shell.execute_reply.started": "2025-04-08T13:13:36.486302Z"
    },
    "trusted": true
   },
   "outputs": [],
   "source": [
    "# wandb.init(\n",
    "#     project=PROJECT,\n",
    "#     resume=RESUME,\n",
    "#     name=\"init_colorize\",\n",
    "#     config={\n",
    "#         \"learning_rate\": learning_rate,\n",
    "#         \"epochs\": epochs,\n",
    "#         \"batch_size\": batch_size,\n",
    "#     },\n",
    "# )\n",
    "# wandb.watch(model)"
   ]
  },
  {
   "cell_type": "markdown",
   "metadata": {},
   "source": [
    "# Train"
   ]
  },
  {
   "cell_type": "code",
   "execution_count": 25,
   "metadata": {
    "execution": {
     "iopub.execute_input": "2025-04-08T13:13:36.490412Z",
     "iopub.status.busy": "2025-04-08T13:13:36.490222Z",
     "iopub.status.idle": "2025-04-08T13:13:36.506412Z",
     "shell.execute_reply": "2025-04-08T13:13:36.505595Z",
     "shell.execute_reply.started": "2025-04-08T13:13:36.490394Z"
    },
    "trusted": true
   },
   "outputs": [],
   "source": [
    "#scheduler = torch.optim.lr_scheduler.ReduceLROnPlateau(optimizer, mode='min', patience=10, factor=0.1, verbose=True)"
   ]
  },
  {
   "cell_type": "code",
   "execution_count": 26,
   "metadata": {
    "execution": {
     "iopub.execute_input": "2025-04-08T13:13:36.507323Z",
     "iopub.status.busy": "2025-04-08T13:13:36.507134Z",
     "iopub.status.idle": "2025-04-08T13:13:36.521196Z",
     "shell.execute_reply": "2025-04-08T13:13:36.520569Z",
     "shell.execute_reply.started": "2025-04-08T13:13:36.507307Z"
    },
    "trusted": true
   },
   "outputs": [],
   "source": [
    "# Early stopping parameters\n",
    "patience = 15  # Number of epochs to wait for improvement"
   ]
  },
  {
   "cell_type": "code",
   "execution_count": 27,
   "metadata": {
    "execution": {
     "iopub.execute_input": "2025-04-08T13:13:36.524605Z",
     "iopub.status.busy": "2025-04-08T13:13:36.524374Z",
     "iopub.status.idle": "2025-04-08T13:13:36.569916Z",
     "shell.execute_reply": "2025-04-08T13:13:36.568541Z",
     "shell.execute_reply.started": "2025-04-08T13:13:36.524581Z"
    },
    "trusted": true
   },
   "outputs": [],
   "source": [
    "from torch.multiprocessing import Manager\n",
    "\n",
    "manager = Manager()\n",
    "shared_dict = manager.dict({\"learning_rate\": learning_rate, \n",
    "                           \"epochs\": epochs,\n",
    "                           \"model_path\" : model_path,\n",
    "                           })  # Shared across ranks\n",
    "\n",
    "# mp.spawn(train_fn, args=(shared_dict,), nprocs=2)"
   ]
  },
  {
   "cell_type": "code",
   "execution_count": 28,
   "metadata": {
    "execution": {
     "iopub.execute_input": "2025-04-08T13:13:36.572435Z",
     "iopub.status.busy": "2025-04-08T13:13:36.572175Z",
     "iopub.status.idle": "2025-04-08T13:13:36.578352Z",
     "shell.execute_reply": "2025-04-08T13:13:36.577636Z",
     "shell.execute_reply.started": "2025-04-08T13:13:36.572406Z"
    },
    "trusted": true
   },
   "outputs": [],
   "source": [
    "class EarlyStopping:\n",
    "    def __init__(self, patience=5, min_delta=0.0):\n",
    "        \"\"\"\n",
    "        Early stopping to terminate training when validation loss stops improving.\n",
    "\n",
    "        Args:\n",
    "            patience (int): Number of epochs to wait before stopping after no improvement.\n",
    "            min_delta (float): Minimum change in the monitored value to be considered as an improvement.\n",
    "        \"\"\"\n",
    "        self.patience = patience\n",
    "        self.min_delta = min_delta\n",
    "        self.best_loss = float('inf')\n",
    "        self.counter = 0\n",
    "\n",
    "    def __call__(self, val_loss):\n",
    "        \"\"\"\n",
    "        Call this function at the end of each validation step.\n",
    "\n",
    "        Args:\n",
    "            val_loss (float): Current epoch's validation loss.\n",
    "\n",
    "        Returns:\n",
    "            bool: True if training should stop, False otherwise.\n",
    "        \"\"\"\n",
    "        if val_loss < self.best_loss - self.min_delta:\n",
    "            self.best_loss = val_loss\n",
    "            self.counter = 0  # Reset counter if validation loss improves\n",
    "        else:\n",
    "            self.counter += 1  # Increase counter if no improvement\n",
    "\n",
    "        return self.counter >= self.patience  # Stop training if patience is exceeded\n"
   ]
  },
  {
   "cell_type": "code",
   "execution_count": 39,
   "metadata": {
    "execution": {
     "iopub.execute_input": "2025-04-08T13:20:44.863524Z",
     "iopub.status.busy": "2025-04-08T13:20:44.863223Z",
     "iopub.status.idle": "2025-04-08T13:20:44.876143Z",
     "shell.execute_reply": "2025-04-08T13:20:44.875315Z",
     "shell.execute_reply.started": "2025-04-08T13:20:44.863503Z"
    },
    "trusted": true
   },
   "outputs": [],
   "source": [
    "# Training function\n",
    "def train(rank, world_size):\n",
    "    #print(f\"Process {rank} started\")  # Debugging line\n",
    "    device = setup(rank, world_size)\n",
    "\n",
    "    # Dataset & DataLoader (Ensure correct sampler for DDP)\n",
    "    train_loader = make_dataloaders(rank, world_size, batch_size=batch_size, n_workers=4,\n",
    "                                    paths=train_image_path, transform=transform)\n",
    "    val_loader = make_dataloaders(rank, world_size, batch_size = batch_size, n_workers=4, paths=val_image_path)\n",
    "\n",
    "    # Model & Optimizer\n",
    "    #torch.cuda.set_device(rank)  # Explicitly set GPU\n",
    "    model = create_model(rank)\n",
    "    criterion = nn.CrossEntropyLoss()\n",
    "    optimizer = optim.Adam(model.parameters(), lr=learning_rate)\n",
    "\n",
    "    # Initialize WandB (Only for rank 0)\n",
    "    if rank == 0:\n",
    "        wandb.init(project=PROJECT, resume=RESUME, name=\"init_colorize\",\n",
    "                   config={\"learning_rate\": learning_rate, \"epochs\": epochs, \"batch_size\": batch_size})\n",
    "        wandb.watch(model)\n",
    "\n",
    "    scheduler = optim.lr_scheduler.ReduceLROnPlateau(optimizer, mode='min', patience=10, factor=0.1, verbose=True)\n",
    "    early_stopping = EarlyStopping(patience=patience, min_delta=0.001)\n",
    "    scaler = GradScaler(\"cuda\")  # Mixed Precision Training\n",
    "\n",
    "    global best_val_loss\n",
    "\n",
    "    for epoch in range(epochs):\n",
    "        model.train()\n",
    "        train_loader.sampler.set_epoch(epoch)  # Ensure DistributedSampler syncs across processes\n",
    "        running_loss = 0\n",
    "        y_true, y_pred = [], []\n",
    "\n",
    "        for batch in train_loader:\n",
    "            L, labels = batch['L'].to(device), batch['label'].to(device)\n",
    "\n",
    "            optimizer.zero_grad()\n",
    "            with autocast(\"cuda\"):  # Updated from torch.cuda.amp.autocast\n",
    "                outputs = model(L).squeeze()\n",
    "                loss = criterion(outputs, labels)\n",
    "\n",
    "            scaler.scale(loss).backward()\n",
    "            scaler.step(optimizer)\n",
    "            scaler.update()\n",
    "\n",
    "            running_loss += loss.item()\n",
    "            y_true.append(labels.detach())\n",
    "            y_pred.append(outputs.detach())\n",
    "\n",
    "        # Compute loss & AUC (with synchronization)\n",
    "        train_loss_tensor = torch.tensor(running_loss, device=device)\n",
    "        dist.all_reduce(train_loss_tensor, op=dist.ReduceOp.SUM)\n",
    "        train_loss = train_loss_tensor.item() / dist.get_world_size()\n",
    "\n",
    "        y_true, y_pred = torch.cat(y_true), torch.cat(y_pred)\n",
    "\n",
    "        # Gather all predictions & labels from all processes\n",
    "        y_true_list = [torch.zeros_like(y_true) for _ in range(dist.get_world_size())]\n",
    "        y_pred_list = [torch.zeros_like(y_pred) for _ in range(dist.get_world_size())]\n",
    "\n",
    "        dist.all_gather(y_true_list, y_true)\n",
    "        dist.all_gather(y_pred_list, y_pred)\n",
    "\n",
    "        # Concatenate tensors across all GPUs\n",
    "        y_true_all = torch.cat(y_true_list)\n",
    "        y_pred_all = torch.cat(y_pred_list)\n",
    "\n",
    "        # Compute AUC only on rank 0\n",
    "        train_auc = None\n",
    "        if rank == 0:\n",
    "            train_auc = roc_auc_score(y_true_all.cpu().numpy(), y_pred_all.cpu().numpy())\n",
    "\n",
    "        # Validation\n",
    "        val_loss, val_auc = validate(model, criterion, val_loader, device)\n",
    "\n",
    "        # Scheduler & Early Stopping\n",
    "        scheduler.step(val_loss)\n",
    "        if early_stopping(val_loss):\n",
    "            print(\"Early stopping triggered!\")\n",
    "            break\n",
    "\n",
    "        # Synchronize best_val_loss across all processes\n",
    "        val_loss_tensor = torch.tensor(val_loss, device=device)\n",
    "        dist.all_reduce(val_loss_tensor, op=dist.ReduceOp.MIN)\n",
    "        val_loss = val_loss_tensor.item()\n",
    "\n",
    "        # Logging & Model Saving\n",
    "        if rank == 0:\n",
    "            wandb.log({\"train_loss\": train_loss, \"train_auc\": train_auc, \"val_loss\": val_loss, \"val_auc\": val_auc})\n",
    "\n",
    "            if val_loss < best_val_loss:\n",
    "                best_val_loss = val_loss\n",
    "                torch.save(model.state_dict(), model_path)\n",
    "                print(f\"Saved new best model with val_loss: {val_loss:.4f}\")\n",
    "\n",
    "    cleanup()\n",
    "\n",
    "# Validation Function with Proper DataLoader\n",
    "def validate(model, criterion, val_loader, device):\n",
    "    model.eval()\n",
    "    val_loss = 0\n",
    "    y_true, y_pred = [], []\n",
    "\n",
    "    with torch.no_grad():\n",
    "        for batch in val_loader:\n",
    "            L, labels = batch['L'].to(device), batch['label'].to(device)\n",
    "            outputs = model(L).squeeze()\n",
    "            loss = criterion(outputs, labels)\n",
    "            val_loss += loss.item()\n",
    "            y_true.append(labels)\n",
    "            y_pred.append(outputs)\n",
    "\n",
    "    val_loss /= len(val_loader)\n",
    "    y_true, y_pred = torch.cat(y_true), torch.cat(y_pred)\n",
    "    val_auc = roc_auc_score(y_true.cpu().numpy(), y_pred.cpu().numpy())\n",
    "\n",
    "    return val_loss, val_auc"
   ]
  },
  {
   "cell_type": "code",
   "execution_count": 43,
   "metadata": {
    "execution": {
     "iopub.execute_input": "2025-04-08T13:31:35.903292Z",
     "iopub.status.busy": "2025-04-08T13:31:35.903009Z",
     "iopub.status.idle": "2025-04-08T13:31:38.027583Z",
     "shell.execute_reply": "2025-04-08T13:31:38.026506Z",
     "shell.execute_reply.started": "2025-04-08T13:31:35.903272Z"
    },
    "trusted": true
   },
   "outputs": [
    {
     "name": "stderr",
     "output_type": "stream",
     "text": [
      "W0408 13:31:37.984000 31 torch/multiprocessing/spawn.py:160] Terminating process 126 via signal SIGTERM\n"
     ]
    },
    {
     "ename": "ProcessExitedException",
     "evalue": "process 1 terminated with exit code 1",
     "output_type": "error",
     "traceback": [
      "\u001b[0;31m---------------------------------------------------------------------------\u001b[0m",
      "\u001b[0;31mProcessExitedException\u001b[0m                    Traceback (most recent call last)",
      "\u001b[0;32m<ipython-input-43-9d29eaa84f5f>\u001b[0m in \u001b[0;36m<cell line: 3>\u001b[0;34m()\u001b[0m\n\u001b[1;32m      1\u001b[0m \u001b[0mworld_size\u001b[0m \u001b[0;34m=\u001b[0m \u001b[0mtorch\u001b[0m\u001b[0;34m.\u001b[0m\u001b[0mcuda\u001b[0m\u001b[0;34m.\u001b[0m\u001b[0mdevice_count\u001b[0m\u001b[0;34m(\u001b[0m\u001b[0;34m)\u001b[0m\u001b[0;34m\u001b[0m\u001b[0;34m\u001b[0m\u001b[0m\n\u001b[1;32m      2\u001b[0m \u001b[0;31m#print(world_size)\u001b[0m\u001b[0;34m\u001b[0m\u001b[0;34m\u001b[0m\u001b[0m\n\u001b[0;32m----> 3\u001b[0;31m \u001b[0mmp\u001b[0m\u001b[0;34m.\u001b[0m\u001b[0mspawn\u001b[0m\u001b[0;34m(\u001b[0m\u001b[0mtrain\u001b[0m\u001b[0;34m,\u001b[0m \u001b[0margs\u001b[0m\u001b[0;34m=\u001b[0m\u001b[0;34m(\u001b[0m\u001b[0mworld_size\u001b[0m\u001b[0;34m,\u001b[0m\u001b[0;34m)\u001b[0m\u001b[0;34m,\u001b[0m \u001b[0mnprocs\u001b[0m\u001b[0;34m=\u001b[0m\u001b[0mworld_size\u001b[0m\u001b[0;34m,\u001b[0m \u001b[0mjoin\u001b[0m\u001b[0;34m=\u001b[0m\u001b[0;32mTrue\u001b[0m\u001b[0;34m)\u001b[0m\u001b[0;34m\u001b[0m\u001b[0;34m\u001b[0m\u001b[0m\n\u001b[0m",
      "\u001b[0;32m/usr/local/lib/python3.10/dist-packages/torch/multiprocessing/spawn.py\u001b[0m in \u001b[0;36mspawn\u001b[0;34m(fn, args, nprocs, join, daemon, start_method)\u001b[0m\n\u001b[1;32m    326\u001b[0m         )\n\u001b[1;32m    327\u001b[0m         \u001b[0mwarnings\u001b[0m\u001b[0;34m.\u001b[0m\u001b[0mwarn\u001b[0m\u001b[0;34m(\u001b[0m\u001b[0mmsg\u001b[0m\u001b[0;34m,\u001b[0m \u001b[0mFutureWarning\u001b[0m\u001b[0;34m,\u001b[0m \u001b[0mstacklevel\u001b[0m\u001b[0;34m=\u001b[0m\u001b[0;36m2\u001b[0m\u001b[0;34m)\u001b[0m\u001b[0;34m\u001b[0m\u001b[0;34m\u001b[0m\u001b[0m\n\u001b[0;32m--> 328\u001b[0;31m     \u001b[0;32mreturn\u001b[0m \u001b[0mstart_processes\u001b[0m\u001b[0;34m(\u001b[0m\u001b[0mfn\u001b[0m\u001b[0;34m,\u001b[0m \u001b[0margs\u001b[0m\u001b[0;34m,\u001b[0m \u001b[0mnprocs\u001b[0m\u001b[0;34m,\u001b[0m \u001b[0mjoin\u001b[0m\u001b[0;34m,\u001b[0m \u001b[0mdaemon\u001b[0m\u001b[0;34m,\u001b[0m \u001b[0mstart_method\u001b[0m\u001b[0;34m=\u001b[0m\u001b[0;34m\"spawn\"\u001b[0m\u001b[0;34m)\u001b[0m\u001b[0;34m\u001b[0m\u001b[0;34m\u001b[0m\u001b[0m\n\u001b[0m",
      "\u001b[0;32m/usr/local/lib/python3.10/dist-packages/torch/multiprocessing/spawn.py\u001b[0m in \u001b[0;36mstart_processes\u001b[0;34m(fn, args, nprocs, join, daemon, start_method)\u001b[0m\n\u001b[1;32m    282\u001b[0m \u001b[0;34m\u001b[0m\u001b[0m\n\u001b[1;32m    283\u001b[0m     \u001b[0;31m# Loop on join until it returns True or raises an exception.\u001b[0m\u001b[0;34m\u001b[0m\u001b[0;34m\u001b[0m\u001b[0m\n\u001b[0;32m--> 284\u001b[0;31m     \u001b[0;32mwhile\u001b[0m \u001b[0;32mnot\u001b[0m \u001b[0mcontext\u001b[0m\u001b[0;34m.\u001b[0m\u001b[0mjoin\u001b[0m\u001b[0;34m(\u001b[0m\u001b[0;34m)\u001b[0m\u001b[0;34m:\u001b[0m\u001b[0;34m\u001b[0m\u001b[0;34m\u001b[0m\u001b[0m\n\u001b[0m\u001b[1;32m    285\u001b[0m         \u001b[0;32mpass\u001b[0m\u001b[0;34m\u001b[0m\u001b[0;34m\u001b[0m\u001b[0m\n\u001b[1;32m    286\u001b[0m \u001b[0;34m\u001b[0m\u001b[0m\n",
      "\u001b[0;32m/usr/local/lib/python3.10/dist-packages/torch/multiprocessing/spawn.py\u001b[0m in \u001b[0;36mjoin\u001b[0;34m(self, timeout)\u001b[0m\n\u001b[1;32m    190\u001b[0m                 )\n\u001b[1;32m    191\u001b[0m             \u001b[0;32melse\u001b[0m\u001b[0;34m:\u001b[0m\u001b[0;34m\u001b[0m\u001b[0;34m\u001b[0m\u001b[0m\n\u001b[0;32m--> 192\u001b[0;31m                 raise ProcessExitedException(\n\u001b[0m\u001b[1;32m    193\u001b[0m                     \u001b[0;34m\"process %d terminated with exit code %d\"\u001b[0m \u001b[0;34m%\u001b[0m \u001b[0;34m(\u001b[0m\u001b[0merror_index\u001b[0m\u001b[0;34m,\u001b[0m \u001b[0mexitcode\u001b[0m\u001b[0;34m)\u001b[0m\u001b[0;34m,\u001b[0m\u001b[0;34m\u001b[0m\u001b[0;34m\u001b[0m\u001b[0m\n\u001b[1;32m    194\u001b[0m                     \u001b[0merror_index\u001b[0m\u001b[0;34m=\u001b[0m\u001b[0merror_index\u001b[0m\u001b[0;34m,\u001b[0m\u001b[0;34m\u001b[0m\u001b[0;34m\u001b[0m\u001b[0m\n",
      "\u001b[0;31mProcessExitedException\u001b[0m: process 1 terminated with exit code 1"
     ]
    }
   ],
   "source": [
    "world_size = torch.cuda.device_count()\n",
    "#print(world_size)\n",
    "mp.spawn(train, args=(world_size,), nprocs=world_size, join=True)"
   ]
  }
 ],
 "metadata": {
  "kaggle": {
   "accelerator": "none",
   "dataSources": [
    {
     "datasetId": 857191,
     "sourceId": 1462296,
     "sourceType": "datasetVersion"
    }
   ],
   "dockerImageVersionId": 30918,
   "isGpuEnabled": false,
   "isInternetEnabled": true,
   "language": "python",
   "sourceType": "notebook"
  },
  "kernelspec": {
   "display_name": "GRAYSCALE_COLORIZE_ENV",
   "language": "python",
   "name": "python3"
  },
  "language_info": {
   "codemirror_mode": {
    "name": "ipython",
    "version": 3
   },
   "file_extension": ".py",
   "mimetype": "text/x-python",
   "name": "python",
   "nbconvert_exporter": "python",
   "pygments_lexer": "ipython3",
   "version": "3.13.2"
  }
 },
 "nbformat": 4,
 "nbformat_minor": 4
}
